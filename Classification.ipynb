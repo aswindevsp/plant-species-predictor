{
  "cells": [
    {
      "cell_type": "markdown",
      "metadata": {
        "id": "Y2bVKITnzFcY"
      },
      "source": [
        "# **Loading data into Pandas**"
      ]
    },
    {
      "cell_type": "code",
      "execution_count": null,
      "metadata": {
        "id": "YsiInU9xahgt"
      },
      "outputs": [],
      "source": [
        "import pandas as pd\n",
        "df = pd.read_csv('/content/drive/MyDrive/AI DEPARTMENT/ML_FDP_code/datasets_19_420_Iris (1).csv')"
      ]
    },
    {
      "cell_type": "markdown",
      "metadata": {
        "id": "rxHNhYLUzKnu"
      },
      "source": [
        "# **Displaying the content**"
      ]
    },
    {
      "cell_type": "code",
      "execution_count": null,
      "metadata": {
        "colab": {
          "base_uri": "https://localhost:8080/",
          "height": 424
        },
        "id": "ayWeypaDbTrM",
        "outputId": "b01e07b2-c139-4ecb-9365-6dc27299bec9"
      },
      "outputs": [],
      "source": [
        "df"
      ]
    },
    {
      "cell_type": "markdown",
      "metadata": {
        "id": "bJDQuSqrztm0"
      },
      "source": [
        "# **Reading the first n rows**"
      ]
    },
    {
      "cell_type": "code",
      "execution_count": null,
      "metadata": {
        "colab": {
          "base_uri": "https://localhost:8080/",
          "height": 363
        },
        "id": "IgWIbWb8bL-i",
        "outputId": "4776579e-111c-4484-9957-1310de9080ea"
      },
      "outputs": [],
      "source": [
        "df.head(10)"
      ]
    },
    {
      "cell_type": "markdown",
      "metadata": {
        "id": "9qakB2Wjz2Rf"
      },
      "source": [
        "# **Reading the last n rows**"
      ]
    },
    {
      "cell_type": "code",
      "execution_count": null,
      "metadata": {
        "colab": {
          "base_uri": "https://localhost:8080/",
          "height": 363
        },
        "id": "GCt7QN9pbnFK",
        "outputId": "31d82b5c-3681-48f9-c7b6-c62d3a07127f"
      },
      "outputs": [],
      "source": [
        "df.tail(10)"
      ]
    },
    {
      "cell_type": "markdown",
      "metadata": {
        "id": "tvdasNPY4uT7"
      },
      "source": [
        "# **Read Header**"
      ]
    },
    {
      "cell_type": "code",
      "execution_count": null,
      "metadata": {
        "colab": {
          "base_uri": "https://localhost:8080/"
        },
        "id": "aW2L5DwH4xlO",
        "outputId": "26157ada-6a48-41bf-90cc-60f60839e71e"
      },
      "outputs": [],
      "source": [
        "df.columns"
      ]
    },
    {
      "cell_type": "markdown",
      "metadata": {
        "id": "wsFawm7u5Kzw"
      },
      "source": [
        "# **Read** **column**"
      ]
    },
    {
      "cell_type": "code",
      "execution_count": null,
      "metadata": {
        "colab": {
          "base_uri": "https://localhost:8080/"
        },
        "id": "Izlc8MHd5OMu",
        "outputId": "7af3352f-3eb5-4a78-f26e-b407055647a3"
      },
      "outputs": [],
      "source": [
        "print(df.Species)"
      ]
    },
    {
      "cell_type": "code",
      "execution_count": null,
      "metadata": {
        "colab": {
          "base_uri": "https://localhost:8080/"
        },
        "id": "4OuT0Onu5e9G",
        "outputId": "a65a51f7-5ae9-4c09-e5e1-01f0bbd353f7"
      },
      "outputs": [],
      "source": [
        "df['Species']"
      ]
    },
    {
      "cell_type": "code",
      "execution_count": null,
      "metadata": {
        "colab": {
          "base_uri": "https://localhost:8080/"
        },
        "id": "c6MNZXi081oN",
        "outputId": "6aa9250f-d4e0-4542-9e31-f1b2a174a95f"
      },
      "outputs": [],
      "source": [
        "print(df['Species'][0:5])"
      ]
    },
    {
      "cell_type": "code",
      "execution_count": null,
      "metadata": {
        "colab": {
          "base_uri": "https://localhost:8080/"
        },
        "id": "s8H6we6AAEX6",
        "outputId": "0c6c3737-190f-4b3d-adb4-0f36cc62ade4"
      },
      "outputs": [],
      "source": [
        "print(df[['Species', 'Id']])"
      ]
    },
    {
      "cell_type": "markdown",
      "metadata": {
        "id": "eZnfXfRZ0W95"
      },
      "source": [
        "# **Returning Dimension of Dataframe**"
      ]
    },
    {
      "cell_type": "code",
      "execution_count": null,
      "metadata": {
        "colab": {
          "base_uri": "https://localhost:8080/"
        },
        "id": "E6Z5pcV4bqyn",
        "outputId": "e800f828-34cd-49a2-beea-fc1e6ca00de7"
      },
      "outputs": [],
      "source": [
        "df.shape"
      ]
    },
    {
      "cell_type": "markdown",
      "metadata": {
        "id": "vyUIL8KUIKCA"
      },
      "source": [
        "# **Read each row**"
      ]
    },
    {
      "cell_type": "code",
      "execution_count": null,
      "metadata": {
        "colab": {
          "base_uri": "https://localhost:8080/"
        },
        "id": "zCiuRByAINfr",
        "outputId": "97f5c906-5efd-4693-acf9-8c41eb340c03"
      },
      "outputs": [],
      "source": [
        "df.iloc[3]"
      ]
    },
    {
      "cell_type": "code",
      "execution_count": null,
      "metadata": {
        "colab": {
          "base_uri": "https://localhost:8080/",
          "height": 112
        },
        "id": "HyAWNukkIJUn",
        "outputId": "b204cc80-417f-4e2a-d61d-ae53577017c0"
      },
      "outputs": [],
      "source": [
        "df.iloc[1:3]"
      ]
    },
    {
      "cell_type": "code",
      "execution_count": null,
      "metadata": {
        "colab": {
          "base_uri": "https://localhost:8080/",
          "height": 424
        },
        "id": "faVHsTi0ag7f",
        "outputId": "a9f65d4d-ab2c-4ce2-e2d1-9d020188431c"
      },
      "outputs": [],
      "source": [
        "df"
      ]
    },
    {
      "cell_type": "markdown",
      "metadata": {
        "id": "_juPXv79LP7_"
      },
      "source": [
        "# **Retrieving class labels**"
      ]
    },
    {
      "cell_type": "code",
      "execution_count": null,
      "metadata": {
        "colab": {
          "base_uri": "https://localhost:8080/"
        },
        "id": "LuzZIrL2LXJk",
        "outputId": "b360c6a1-1c37-444d-9a1a-c13020e854ed"
      },
      "outputs": [],
      "source": [
        "label=df['Species']\n",
        "label"
      ]
    },
    {
      "cell_type": "code",
      "execution_count": null,
      "metadata": {
        "colab": {
          "base_uri": "https://localhost:8080/"
        },
        "id": "mbKakvgmL44D",
        "outputId": "a2fc2536-44d1-465a-e81e-f13a2e921c2d"
      },
      "outputs": [],
      "source": [
        "label.value_counts()"
      ]
    },
    {
      "cell_type": "markdown",
      "metadata": {
        "id": "9IP9R36P3qEr"
      },
      "source": [
        "# **Grouping**"
      ]
    },
    {
      "cell_type": "code",
      "execution_count": null,
      "metadata": {
        "id": "o2PY--Le3G3j"
      },
      "outputs": [],
      "source": [
        "label_grp = df.groupby('Species')"
      ]
    },
    {
      "cell_type": "code",
      "execution_count": null,
      "metadata": {
        "colab": {
          "base_uri": "https://localhost:8080/",
          "height": 175
        },
        "id": "Q0J4ReVN3z0U",
        "outputId": "e9d5b3a4-6e28-4fe4-9508-bf3293d229d2"
      },
      "outputs": [],
      "source": [
        "label_grp.sum()"
      ]
    },
    {
      "cell_type": "code",
      "execution_count": null,
      "metadata": {
        "colab": {
          "base_uri": "https://localhost:8080/",
          "height": 175
        },
        "id": "7GMIdEkK30tx",
        "outputId": "9b170aaf-1aba-4823-90b4-e20b4c481cc0"
      },
      "outputs": [],
      "source": [
        "label_grp.mean()"
      ]
    },
    {
      "cell_type": "code",
      "execution_count": null,
      "metadata": {
        "colab": {
          "base_uri": "https://localhost:8080/",
          "height": 175
        },
        "id": "Mb9rZnA_34sZ",
        "outputId": "049d8789-db5b-4ff0-bcd6-877ffc666d99"
      },
      "outputs": [],
      "source": [
        "label_grp.max()"
      ]
    },
    {
      "cell_type": "code",
      "execution_count": null,
      "metadata": {
        "colab": {
          "base_uri": "https://localhost:8080/",
          "height": 175
        },
        "id": "eYnsoh_Y38ZR",
        "outputId": "dc2a414f-661b-4a5b-c99a-c1142186d438"
      },
      "outputs": [],
      "source": [
        "label_grp.min()"
      ]
    },
    {
      "cell_type": "markdown",
      "metadata": {
        "id": "08uF-Kvy2uwq"
      },
      "source": [
        "# **Data Visualization using Matplotlib**"
      ]
    },
    {
      "cell_type": "code",
      "execution_count": null,
      "metadata": {
        "id": "LQd-fwOH7Rk1"
      },
      "outputs": [],
      "source": [
        "import matplotlib.pyplot as plt"
      ]
    },
    {
      "cell_type": "code",
      "execution_count": null,
      "metadata": {
        "colab": {
          "base_uri": "https://localhost:8080/",
          "height": 300
        },
        "id": "J9nqeDJU23-Y",
        "outputId": "99b5d2e3-05a5-4a7f-ccfe-369deb8845aa"
      },
      "outputs": [],
      "source": [
        "\n",
        "plt.scatter(df.SepalLengthCm,df.SepalWidthCm)\n",
        "plt.title(\"Sepal Lenghth vs Sepal Width\")\n",
        "\n",
        "plt.xlabel('Sepal Lenghth', fontsize=16)\n",
        "plt.ylabel('Sepal Width', fontsize=16)\n",
        "plt.show()"
      ]
    },
    {
      "cell_type": "code",
      "execution_count": null,
      "metadata": {
        "colab": {
          "base_uri": "https://localhost:8080/",
          "height": 298
        },
        "id": "ESJLIVFD7OjA",
        "outputId": "e30cfb48-cbff-4546-9671-c7684cca4b6f"
      },
      "outputs": [],
      "source": [
        "plt.bar(df.PetalLengthCm,df.PetalWidthCm)\n",
        "plt.title(\"Petal Lenghth vs Petal Width\")\n",
        "\n",
        "plt.xlabel('Petal Lenghth', fontsize=12)\n",
        "plt.ylabel('Petal Width', fontsize=12)\n",
        "plt.show()"
      ]
    },
    {
      "cell_type": "markdown",
      "metadata": {
        "id": "Z6PPeQkm8tVP"
      },
      "source": [
        "**pie chart**"
      ]
    },
    {
      "cell_type": "code",
      "execution_count": null,
      "metadata": {
        "colab": {
          "base_uri": "https://localhost:8080/",
          "height": 264
        },
        "id": "eg16t3ha8whA",
        "outputId": "b320b6d4-3c43-41a3-ccd7-c6c8f762091c"
      },
      "outputs": [],
      "source": [
        "import matplotlib.pyplot as plt\n",
        "plt.pie([33.33,33.33,33.33],labels=['Setosa','Virginica','Versicolor'])\n",
        "plt.title(\"Distribution\")\n",
        "\n",
        "plt.show()"
      ]
    },
    {
      "cell_type": "markdown",
      "metadata": {
        "id": "IcCvRtr91fb8"
      },
      "source": [
        "# **Data Preprocessing**"
      ]
    },
    {
      "cell_type": "markdown",
      "metadata": {
        "id": "_C8WYqt7OTOK"
      },
      "source": [
        "**Droping attributes**"
      ]
    },
    {
      "cell_type": "code",
      "execution_count": null,
      "metadata": {
        "colab": {
          "base_uri": "https://localhost:8080/",
          "height": 424
        },
        "id": "0AZ5oi2LPs6r",
        "outputId": "59931066-a6c7-4107-ec06-ae8098b25d5e"
      },
      "outputs": [],
      "source": [
        "df.drop(['Id'],axis=1,inplace=True)\n",
        "df"
      ]
    },
    {
      "cell_type": "markdown",
      "metadata": {
        "id": "L6T924yJN-K7"
      },
      "source": [
        "**Droping Empty cells**"
      ]
    },
    {
      "cell_type": "code",
      "execution_count": null,
      "metadata": {
        "id": "ZeNYn-ugN-9r"
      },
      "outputs": [],
      "source": [
        "df.dropna(inplace=True)"
      ]
    },
    {
      "cell_type": "markdown",
      "metadata": {
        "id": "_s1n7QjjPHHK"
      },
      "source": [
        "**Replace NULL with values**"
      ]
    },
    {
      "cell_type": "code",
      "execution_count": null,
      "metadata": {
        "id": "5_fr_EDQPNzE"
      },
      "outputs": [],
      "source": [
        "df.fillna(130,inplace=True)"
      ]
    },
    {
      "cell_type": "code",
      "execution_count": null,
      "metadata": {
        "id": "wiEb-c0DR2eL"
      },
      "outputs": [],
      "source": [
        "df"
      ]
    },
    {
      "cell_type": "markdown",
      "metadata": {
        "id": "aswhLGSJKXSN"
      },
      "source": [
        "# **Model creation using sklearn**"
      ]
    },
    {
      "cell_type": "markdown",
      "metadata": {
        "id": "_Xk3uv-FPllD"
      },
      "source": [
        "**Importing packages**"
      ]
    },
    {
      "cell_type": "code",
      "execution_count": null,
      "metadata": {
        "id": "1xqbofaYPkdo"
      },
      "outputs": [],
      "source": [
        "from sklearn.neighbors import KNeighborsClassifier\n",
        "from sklearn.model_selection import train_test_split\n",
        "import numpy as np"
      ]
    },
    {
      "cell_type": "markdown",
      "metadata": {
        "id": "opiGqa6nPx6a"
      },
      "source": [
        "**Selecting Predictor variables and Target variables**"
      ]
    },
    {
      "cell_type": "code",
      "execution_count": null,
      "metadata": {
        "colab": {
          "base_uri": "https://localhost:8080/"
        },
        "id": "oQgvGwzqPvmB",
        "outputId": "2ec28b40-aa6b-40af-9ce9-4e76264d9139"
      },
      "outputs": [],
      "source": [
        "print(\"Target variables\")\n",
        "y=df['Species']\n",
        "print(y)\n",
        "print(\"Predictor variables\")\n",
        "X = df.drop('Species', axis = 1)\n",
        "print(X)"
      ]
    },
    {
      "cell_type": "markdown",
      "metadata": {
        "id": "38M7H0g-Qd79"
      },
      "source": [
        "**Splitting testing data and Training Data**"
      ]
    },
    {
      "cell_type": "code",
      "execution_count": null,
      "metadata": {
        "id": "6IwStlT3QrTN"
      },
      "outputs": [],
      "source": [
        "\n",
        "X_train,X_test,y_train,y_test=train_test_split(X,y,test_size=0.25)\n"
      ]
    },
    {
      "cell_type": "markdown",
      "metadata": {
        "id": "O1Ku2EbXQ43p"
      },
      "source": [
        "**Fitting the model and predicting the label**"
      ]
    },
    {
      "cell_type": "code",
      "execution_count": null,
      "metadata": {
        "colab": {
          "base_uri": "https://localhost:8080/"
        },
        "id": "FfARiBLcRE4g",
        "outputId": "20b83a1c-cf28-48b0-c18f-6eb2464d2f81"
      },
      "outputs": [],
      "source": [
        "knn2=KNeighborsClassifier(5)\n",
        "knn2.fit(X_train,y_train)\n",
        "\n",
        "\n",
        "\n",
        "\n"
      ]
    },
    {
      "cell_type": "code",
      "execution_count": null,
      "metadata": {
        "colab": {
          "base_uri": "https://localhost:8080/"
        },
        "id": "KOT4wfbkn8Je",
        "outputId": "28ca0560-3374-4834-e982-94337bce2188"
      },
      "outputs": [],
      "source": [
        "print(knn2)"
      ]
    },
    {
      "cell_type": "code",
      "execution_count": null,
      "metadata": {},
      "outputs": [],
      "source": [
        "filename = 'finalized_model.sav'\n",
        "pickle.dump(knn2, open(filename, 'wb'))\n"
      ]
    },
    {
      "cell_type": "markdown",
      "metadata": {
        "id": "2zKWL0hTAYWk"
      },
      "source": [
        "**Predicting the class label**"
      ]
    },
    {
      "cell_type": "code",
      "execution_count": null,
      "metadata": {
        "colab": {
          "base_uri": "https://localhost:8080/"
        },
        "id": "OiL-yYF7AVu_",
        "outputId": "f61fdefd-373a-4df7-9504-fb9ba97ba701"
      },
      "outputs": [],
      "source": [
        "print(\"Predicted Label\")\n",
        "tst=np.array([[6.5,3.0,5.2,2.0]])\n",
        "\n",
        "rst=knn2.predict(tst)\n",
        "print(rst)\n"
      ]
    },
    {
      "cell_type": "code",
      "execution_count": null,
      "metadata": {
        "colab": {
          "base_uri": "https://localhost:8080/"
        },
        "id": "HnDMUsVCSAQh",
        "outputId": "a3f1d3bf-98d6-4024-8477-7934969d7948"
      },
      "outputs": [],
      "source": [
        "df.iloc[40]"
      ]
    },
    {
      "cell_type": "code",
      "execution_count": null,
      "metadata": {
        "colab": {
          "base_uri": "https://localhost:8080/"
        },
        "id": "EsAWTI9MAgq_",
        "outputId": "7218d9d3-7135-4f0c-e066-322a698e853c"
      },
      "outputs": [],
      "source": [
        "tst=np.array([[5.0,3.5,1.3,0.3]])\n",
        "\n",
        "rst=knn2.predict(tst)\n",
        "print(rst)\n"
      ]
    },
    {
      "cell_type": "code",
      "execution_count": null,
      "metadata": {
        "colab": {
          "base_uri": "https://localhost:8080/"
        },
        "id": "svfsF7OlVkwn",
        "outputId": "a70dd121-c017-4ce1-8214-4a745d4763ae"
      },
      "outputs": [],
      "source": [
        "p=knn2.predict(X_test)\n",
        "print(p)"
      ]
    },
    {
      "cell_type": "code",
      "execution_count": null,
      "metadata": {},
      "outputs": [],
      "source": [
        "#Dumping model \n",
        "import pickle\n",
        "pickle.dump(knn2, open('model.sav', 'wb'))"
      ]
    },
    {
      "cell_type": "code",
      "execution_count": null,
      "metadata": {},
      "outputs": [],
      "source": [
        "#Loaind model\n",
        "knn2 = pickle.load(open('model.sav', 'rb'))"
      ]
    },
    {
      "cell_type": "markdown",
      "metadata": {
        "id": "_X2IQS-kW2h-"
      },
      "source": [
        "**Accuracy of Prediction**"
      ]
    },
    {
      "cell_type": "code",
      "execution_count": null,
      "metadata": {
        "colab": {
          "base_uri": "https://localhost:8080/"
        },
        "id": "9A-qYcwfXDRR",
        "outputId": "b729c313-0829-4ba3-e59e-d64f6d480704"
      },
      "outputs": [],
      "source": [
        "from sklearn.metrics import  accuracy_score\n",
        "print(accuracy_score(y_test,p))"
      ]
    },
    {
      "cell_type": "markdown",
      "metadata": {
        "id": "RW4UcxZF0d0x"
      },
      "source": [
        "# **Support Vector Classifier**"
      ]
    },
    {
      "cell_type": "code",
      "execution_count": null,
      "metadata": {
        "id": "g8hwCoKK0iC2"
      },
      "outputs": [],
      "source": [
        "import pandas as pd\n",
        "iris = pd.read_csv('/content/drive/MyDrive/AI DEPARTMENT/ML_FDP_code/datasets_19_420_Iris (1).csv')"
      ]
    },
    {
      "cell_type": "code",
      "execution_count": null,
      "metadata": {
        "colab": {
          "base_uri": "https://localhost:8080/",
          "height": 206
        },
        "id": "5yAde6p52DD2",
        "outputId": "c410eb79-8ebd-4751-99de-39e87c596a02"
      },
      "outputs": [],
      "source": [
        "df.head()"
      ]
    },
    {
      "cell_type": "code",
      "execution_count": null,
      "metadata": {
        "id": "wY98lN5A1Pc9"
      },
      "outputs": [],
      "source": [
        "from sklearn.svm import SVC\n",
        "from sklearn.model_selection import train_test_split\n",
        "import numpy as np"
      ]
    },
    {
      "cell_type": "markdown",
      "metadata": {
        "id": "yqyq2MXk3VlR"
      },
      "source": [
        "put in [[]] "
      ]
    },
    {
      "cell_type": "code",
      "execution_count": null,
      "metadata": {
        "id": "z9nUaPZj1jtH"
      },
      "outputs": [],
      "source": [
        "x=iris[['SepalLengthCm','SepalWidthCm','PetalLengthCm','PetalLengthCm']]\n",
        "y=iris['Species']"
      ]
    },
    {
      "cell_type": "code",
      "execution_count": null,
      "metadata": {
        "id": "TCK0h3r59bX4"
      },
      "outputs": [],
      "source": [
        "X_train,X_test,y_train,y_test=train_test_split(x,y,test_size=0.25)"
      ]
    },
    {
      "cell_type": "code",
      "execution_count": null,
      "metadata": {
        "id": "N707XN8i24I9"
      },
      "outputs": [],
      "source": [
        "ml=SVC()"
      ]
    },
    {
      "cell_type": "code",
      "execution_count": null,
      "metadata": {
        "id": "ORFgeMcf3nhR"
      },
      "outputs": [],
      "source": [
        "ml=ml.fit(x,y)"
      ]
    },
    {
      "cell_type": "code",
      "execution_count": null,
      "metadata": {
        "colab": {
          "base_uri": "https://localhost:8080/"
        },
        "id": "UAGaaGhl3vjN",
        "outputId": "9e17198b-099f-44c9-87b7-6a18e2b41e4a"
      },
      "outputs": [],
      "source": [
        "tst=[[6.5,3.0,5.2,2.0]]\n",
        "\n",
        "rst=ml.predict(tst)\n",
        "print(rst)"
      ]
    },
    {
      "cell_type": "code",
      "execution_count": null,
      "metadata": {
        "colab": {
          "base_uri": "https://localhost:8080/"
        },
        "id": "u7q3oBoCBYf2",
        "outputId": "d8571dbc-337f-490e-f800-550315a8432d"
      },
      "outputs": [],
      "source": [
        "tst=np.array([[5.0,3.5,1.3,0.3]])\n",
        "\n",
        "rst=ml.predict(tst)\n",
        "print(rst)\n"
      ]
    },
    {
      "cell_type": "markdown",
      "metadata": {
        "id": "bgwRXl6NMvTs"
      },
      "source": [
        "# **Decision Tree Classifier**"
      ]
    },
    {
      "cell_type": "code",
      "execution_count": null,
      "metadata": {
        "colab": {
          "base_uri": "https://localhost:8080/"
        },
        "id": "ru5ntFyeM5JI",
        "outputId": "a3bca3d3-0905-43d7-ae91-6bc69861af58"
      },
      "outputs": [],
      "source": [
        "from sklearn.tree import DecisionTreeClassifier\n",
        "ML2=DecisionTreeClassifier()\n",
        "\n",
        "ML2=ML2.fit(x,y)\n",
        "r=ML2.predict([[4.5,5.5,6.5,7.5]])\n",
        "print(r)"
      ]
    },
    {
      "cell_type": "code",
      "execution_count": null,
      "metadata": {
        "id": "D2F3OkkRVc5o"
      },
      "outputs": [],
      "source": []
    },
    {
      "cell_type": "markdown",
      "metadata": {
        "id": "Gds0HR327sbg"
      },
      "source": [
        "# **Naive Bayes**"
      ]
    },
    {
      "cell_type": "code",
      "execution_count": null,
      "metadata": {
        "colab": {
          "base_uri": "https://localhost:8080/"
        },
        "id": "URDS6BwE7wqM",
        "outputId": "b14b939f-e55f-442b-f1e5-1c0f6ef3f2d4"
      },
      "outputs": [],
      "source": [
        "from sklearn.datasets import load_iris\n",
        "iris=load_iris()\n",
        "x=iris.data\n",
        "y=iris.target\n",
        "\n",
        "# algorithm\n",
        "from sklearn.naive_bayes import GaussianNB\n",
        "ML3=GaussianNB()\n",
        "\n",
        "\n",
        "\n",
        "\n",
        "ML3=ML3.fit(x,y)\n",
        "\n",
        "r3=ML3.predict([[4.5,5.5,6.5,7.5]])\n",
        "print(r3)"
      ]
    },
    {
      "cell_type": "code",
      "execution_count": null,
      "metadata": {
        "colab": {
          "base_uri": "https://localhost:8080/"
        },
        "id": "363Ms9PSOwIF",
        "outputId": "da7826b2-8935-4735-c20b-cbdbe1ce9036"
      },
      "outputs": [],
      "source": [
        "print(iris)"
      ]
    }
  ],
  "metadata": {
    "colab": {
      "provenance": []
    },
    "kernelspec": {
      "display_name": "Python 3.10.6 64-bit",
      "language": "python",
      "name": "python3"
    },
    "language_info": {
      "name": "python",
      "version": "3.10.6"
    },
    "vscode": {
      "interpreter": {
        "hash": "2a8dfe095fce2b5e88c64a2c3ee084c8e0e0d70b23e7b95b1cfb538be294c5c8"
      }
    }
  },
  "nbformat": 4,
  "nbformat_minor": 0
}
